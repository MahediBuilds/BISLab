{
  "nbformat": 4,
  "nbformat_minor": 0,
  "metadata": {
    "colab": {
      "provenance": [],
      "authorship_tag": "ABX9TyON5tr4k0lT2RDDA4ILXi0y",
      "include_colab_link": true
    },
    "kernelspec": {
      "name": "python3",
      "display_name": "Python 3"
    },
    "language_info": {
      "name": "python"
    }
  },
  "cells": [
    {
      "cell_type": "markdown",
      "metadata": {
        "id": "view-in-github",
        "colab_type": "text"
      },
      "source": [
        "<a href=\"https://colab.research.google.com/github/MahediBuilds/BISLab/blob/main/Lab%203/BISLab3.ipynb\" target=\"_parent\"><img src=\"https://colab.research.google.com/assets/colab-badge.svg\" alt=\"Open In Colab\"/></a>"
      ]
    },
    {
      "cell_type": "code",
      "execution_count": 23,
      "metadata": {
        "colab": {
          "base_uri": "https://localhost:8080/"
        },
        "id": "JZwF3BHsewSS",
        "outputId": "683ede69-ee24-4b1b-fc41-45702e29b448"
      },
      "outputs": [
        {
          "output_type": "stream",
          "name": "stdout",
          "text": [
            "Iteration 1: Best Workforce Size = 21.73, Profit = 168.51\n",
            "Iteration 2: Best Workforce Size = 21.44, Profit = 168.96\n",
            "Iteration 3: Best Workforce Size = 19.76, Profit = 169.97\n",
            "Iteration 4: Best Workforce Size = 19.76, Profit = 169.97\n",
            "Iteration 5: Best Workforce Size = 19.76, Profit = 169.97\n",
            "Iteration 6: Best Workforce Size = 19.76, Profit = 169.97\n",
            "Iteration 7: Best Workforce Size = 20.02, Profit = 170.00\n",
            "Iteration 8: Best Workforce Size = 20.02, Profit = 170.00\n",
            "Iteration 9: Best Workforce Size = 19.98, Profit = 170.00\n",
            "Iteration 10: Best Workforce Size = 19.98, Profit = 170.00\n",
            "Iteration 11: Best Workforce Size = 19.98, Profit = 170.00\n",
            "Iteration 12: Best Workforce Size = 19.98, Profit = 170.00\n",
            "Iteration 13: Best Workforce Size = 19.98, Profit = 170.00\n",
            "Iteration 14: Best Workforce Size = 19.98, Profit = 170.00\n",
            "Iteration 15: Best Workforce Size = 19.98, Profit = 170.00\n",
            "Iteration 16: Best Workforce Size = 20.01, Profit = 170.00\n",
            "Iteration 17: Best Workforce Size = 20.01, Profit = 170.00\n",
            "Iteration 18: Best Workforce Size = 20.01, Profit = 170.00\n",
            "Iteration 19: Best Workforce Size = 20.01, Profit = 170.00\n",
            "Iteration 20: Best Workforce Size = 20.01, Profit = 170.00\n",
            "\n",
            "Final Result:\n",
            "Optimal Workforce Size: 20.01, Maximum Profit: 170.00\n"
          ]
        }
      ],
      "source": [
        "import random\n",
        "\n",
        "def profit_function(x):\n",
        "    return -0.5 * (x**2) + 20 * x - 30\n",
        "\n",
        "class Particle:\n",
        "    def __init__(self, lower_bound, upper_bound):\n",
        "        self.position = random.uniform(lower_bound, upper_bound)\n",
        "        self.velocity = random.uniform(-1, 1)\n",
        "        self.pbest_position = self.position\n",
        "        self.pbest_value = profit_function(self.position)\n",
        "\n",
        "def PSO(num_particles=10, max_iterations=20, lower_bound=0, upper_bound=50, w=0.5, c1=1.5, c2=1.5):\n",
        "    swarm = [Particle(lower_bound, upper_bound) for _ in range(num_particles)]\n",
        "\n",
        "    gbest_position = swarm[0].position\n",
        "    gbest_value = swarm[0].pbest_value\n",
        "\n",
        "    for particle in swarm:\n",
        "        if particle.pbest_value > gbest_value:\n",
        "            gbest_value = particle.pbest_value\n",
        "            gbest_position = particle.pbest_position\n",
        "\n",
        "    for iteration in range(max_iterations):\n",
        "        for particle in swarm:\n",
        "            profit = profit_function(particle.position)\n",
        "            if profit > particle.pbest_value:\n",
        "                particle.pbest_value = profit\n",
        "                particle.pbest_position = particle.position\n",
        "            if profit > gbest_value:\n",
        "                gbest_value = profit\n",
        "                gbest_position = particle.position\n",
        "\n",
        "        for particle in swarm:\n",
        "            r1 = random.random()\n",
        "            r2 = random.random()\n",
        "            particle.velocity = (\n",
        "                w * particle.velocity\n",
        "                + c1 * r1 * (particle.pbest_position - particle.position)\n",
        "                + c2 * r2 * (gbest_position - particle.position)\n",
        "            )\n",
        "            particle.position += particle.velocity\n",
        "            if particle.position < lower_bound:\n",
        "                particle.position = lower_bound\n",
        "            if particle.position > upper_bound:\n",
        "                particle.position = upper_bound\n",
        "\n",
        "        print(f\"Iteration {iteration+1}: Best Workforce Size = {gbest_position:.2f}, Profit = {gbest_value:.2f}\")\n",
        "\n",
        "    return gbest_position, gbest_value\n",
        "\n",
        "if __name__ == \"__main__\":\n",
        "    best_pos, best_val = PSO()\n",
        "    print(\"\\nFinal Result:\")\n",
        "    print(f\"Optimal Workforce Size: {best_pos:.2f}, Maximum Profit: {best_val:.2f}\")"
      ]
    }
  ]
}